{
 "cells": [
  {
   "cell_type": "markdown",
   "id": "1ce2cd8f",
   "metadata": {},
   "source": [
    "# Code Review Summary\n",
    "\n",
    "The current notebook loads book summaries from an Excel file, splits them into chunks, generates embeddings using OpenAI, and stores them in a Chroma vector database. It provides a simple retriever interface for semantic search over the book summaries. The code is modular, uses environment variables for API keys, and includes basic error checking for required columns. Overall, it is well-structured for its purpose and ready for further extension or experimentation."
   ]
  },
  {
   "cell_type": "code",
   "execution_count": null,
   "id": "68c6f29c",
   "metadata": {},
   "outputs": [],
   "source": [
    "import os\n",
    "import uuid\n",
    "import pandas as pd\n",
    "import chromadb\n",
    "from dotenv import load_dotenv\n",
    "\n",
    "from langchain_openai import OpenAIEmbeddings\n",
    "from langchain_chroma import Chroma\n",
    "from langchain.text_splitter import RecursiveCharacterTextSplitter\n",
    "import gradio as gr\n",
    "from openai import OpenAI\n",
    "from utils import get_summary_by_title"
   ]
  },
  {
   "cell_type": "code",
   "execution_count": 3,
   "id": "1be3d6ff",
   "metadata": {},
   "outputs": [
    {
     "data": {
      "text/plain": [
       "True"
      ]
     },
     "execution_count": 3,
     "metadata": {},
     "output_type": "execute_result"
    }
   ],
   "source": [
    "load_dotenv(override=True)"
   ]
  },
  {
   "cell_type": "code",
   "execution_count": 4,
   "id": "cc5120bc",
   "metadata": {},
   "outputs": [],
   "source": [
    "EXCEL_PATH = \"book_summaries.xlsx\"          # <-- put your file path here\n",
    "SHEET_NAME = \"SHEET1\"                     # or a sheet string name\n",
    "PERSIST_DIR = \"./chroma_books\"     # persist on disk\n",
    "COLLECTION_NAME = \"books\"\n",
    "\n",
    "EMBED_MODEL = \"text-embedding-3-small\"  # fast & cheap; or \"text-embedding-3-large\"\n",
    "\n",
    "TOP_K=5"
   ]
  },
  {
   "cell_type": "code",
   "execution_count": 5,
   "id": "eb922093",
   "metadata": {},
   "outputs": [
    {
     "name": "stdout",
     "output_type": "stream",
     "text": [
      "OpenAI API Key exists and begins sk-svcac\n",
      "Groq API Key exists and begins gsk_kblI\n"
     ]
    }
   ],
   "source": [
    "openai_api_key = os.getenv('OPENAI_API_KEY')\n",
    "groq_api_key = os.getenv('GROQ_API_KEY')\n",
    "\n",
    "if openai_api_key:\n",
    "    print(f\"OpenAI API Key exists and begins {openai_api_key[:8]}\")\n",
    "else:\n",
    "    print(\"OpenAI API Key not set\")\n",
    "\n",
    "if groq_api_key:\n",
    "    print(f\"Groq API Key exists and begins {groq_api_key[:8]}\")\n",
    "else:\n",
    "    print(\"Groq API Key not set\")"
   ]
  },
  {
   "cell_type": "code",
   "execution_count": null,
   "id": "9d132059",
   "metadata": {},
   "outputs": [],
   "source": [
    "# Load Excel file with error handling and use SHEET_NAME\n",
    "try:\n",
    "    df = pd.read_excel(EXCEL_PATH, sheet_name=SHEET_NAME)\n",
    "except Exception as e:\n",
    "    raise RuntimeError(f\"Failed to load Excel file: {e}\")\n",
    "\n",
    "# Normalize columns to lowercase for validation and use\n",
    "df.columns = [c.lower() for c in df.columns]\n",
    "expected_cols = {\"title\", \"resume\"}\n",
    "missing = expected_cols - set(df.columns)\n",
    "if missing:\n",
    "    raise ValueError(f\"Missing expected columns: {missing}. Found: {list(df.columns)}\")"
   ]
  },
  {
   "cell_type": "code",
   "execution_count": 10,
   "id": "5332f9a1",
   "metadata": {},
   "outputs": [
    {
     "data": {
      "text/html": [
       "<div>\n",
       "<style scoped>\n",
       "    .dataframe tbody tr th:only-of-type {\n",
       "        vertical-align: middle;\n",
       "    }\n",
       "\n",
       "    .dataframe tbody tr th {\n",
       "        vertical-align: top;\n",
       "    }\n",
       "\n",
       "    .dataframe thead th {\n",
       "        text-align: right;\n",
       "    }\n",
       "</style>\n",
       "<table border=\"1\" class=\"dataframe\">\n",
       "  <thead>\n",
       "    <tr style=\"text-align: right;\">\n",
       "      <th></th>\n",
       "      <th>title</th>\n",
       "      <th>resume</th>\n",
       "    </tr>\n",
       "  </thead>\n",
       "  <tbody>\n",
       "    <tr>\n",
       "      <th>0</th>\n",
       "      <td>1984</td>\n",
       "      <td>A dystopian story about a totalitarian society...</td>\n",
       "    </tr>\n",
       "    <tr>\n",
       "      <th>1</th>\n",
       "      <td>To Kill a Mockingbird</td>\n",
       "      <td>A profound story set in the racially divided A...</td>\n",
       "    </tr>\n",
       "    <tr>\n",
       "      <th>2</th>\n",
       "      <td>The Great Gatsby</td>\n",
       "      <td>A tale of wealth, love, and illusion in the Ja...</td>\n",
       "    </tr>\n",
       "    <tr>\n",
       "      <th>3</th>\n",
       "      <td>Fahrenheit 451</td>\n",
       "      <td>In a future where books are banned, fireman Gu...</td>\n",
       "    </tr>\n",
       "    <tr>\n",
       "      <th>4</th>\n",
       "      <td>Romeo and Juliet</td>\n",
       "      <td>A tragic love story between two young people f...</td>\n",
       "    </tr>\n",
       "    <tr>\n",
       "      <th>5</th>\n",
       "      <td>Crime and Punishment</td>\n",
       "      <td>Rodion Raskolnikov, a poor student in St. Pete...</td>\n",
       "    </tr>\n",
       "  </tbody>\n",
       "</table>\n",
       "</div>"
      ],
      "text/plain": [
       "                   title                                             resume\n",
       "0                   1984  A dystopian story about a totalitarian society...\n",
       "1  To Kill a Mockingbird  A profound story set in the racially divided A...\n",
       "2       The Great Gatsby  A tale of wealth, love, and illusion in the Ja...\n",
       "3         Fahrenheit 451  In a future where books are banned, fireman Gu...\n",
       "4       Romeo and Juliet  A tragic love story between two young people f...\n",
       "5   Crime and Punishment  Rodion Raskolnikov, a poor student in St. Pete..."
      ]
     },
     "execution_count": 10,
     "metadata": {},
     "output_type": "execute_result"
    }
   ],
   "source": [
    "df.head(6)"
   ]
  },
  {
   "cell_type": "code",
   "execution_count": 11,
   "id": "696073d1",
   "metadata": {},
   "outputs": [],
   "source": [
    "# Drop rows with missing title or resume\n",
    "df = df.dropna(subset=[\"title\", \"resume\"]).reset_index(drop=True)"
   ]
  },
  {
   "cell_type": "code",
   "execution_count": 12,
   "id": "ff58c33c",
   "metadata": {},
   "outputs": [
    {
     "name": "stdout",
     "output_type": "stream",
     "text": [
      "Prepared 15 chunks from 15 books.\n"
     ]
    }
   ],
   "source": [
    "# Function to prepare documents from dataframe\n",
    "def prepare_documents(df, splitter):\n",
    "    documents = []\n",
    "    for _, row in df.iterrows():\n",
    "        title = str(row[\"title\"])\n",
    "        resume = str(row[\"resume\"])\n",
    "        text = f\"{title} — {resume}\"\n",
    "        chunks = splitter.split_text(text)\n",
    "        for i, chunk in enumerate(chunks):\n",
    "            documents.append({\n",
    "                \"page_content\": chunk,\n",
    "                \"metadata\": {\"title\": title, \"chunk\": i}\n",
    "            })\n",
    "    return documents\n",
    "\n",
    "splitter = RecursiveCharacterTextSplitter(\n",
    "    chunk_size=700,\n",
    "    chunk_overlap=120,\n",
    "    length_function=len,\n",
    ")\n",
    "\n",
    "documents = prepare_documents(df, splitter)\n",
    "print(f\"Prepared {len(documents)} chunks from {len(df)} books.\")"
   ]
  },
  {
   "cell_type": "code",
   "execution_count": 13,
   "id": "ea0d736f",
   "metadata": {},
   "outputs": [],
   "source": [
    "embeddings = OpenAIEmbeddings(\n",
    "    model=EMBED_MODEL,\n",
    "    api_key=openai_api_key\n",
    ")"
   ]
  },
  {
   "cell_type": "code",
   "execution_count": 8,
   "id": "42f5c239",
   "metadata": {},
   "outputs": [],
   "source": [
    "import shutil\n",
    "\n",
    "if os.path.exists(PERSIST_DIR):\n",
    "    print(f\"Removing existing Chroma DB at {PERSIST_DIR} to avoid settings conflict...\")\n",
    "    shutil.rmtree(PERSIST_DIR)"
   ]
  },
  {
   "cell_type": "code",
   "execution_count": 15,
   "id": "886471d1",
   "metadata": {},
   "outputs": [
    {
     "name": "stdout",
     "output_type": "stream",
     "text": [
      "Loading existing Chroma DB from ./chroma_books\n"
     ]
    }
   ],
   "source": [
    "# Function to initialize or load Chroma vectorstore safely\n",
    "def get_or_create_vectorstore(documents, embeddings, persist_dir, collection_name):\n",
    "    if os.path.exists(persist_dir) and os.listdir(persist_dir):\n",
    "        print(f\"Loading existing Chroma DB from {persist_dir}\")\n",
    "        return Chroma(\n",
    "            collection_name=collection_name,\n",
    "            embedding_function=embeddings,\n",
    "            persist_directory=persist_dir,\n",
    "        )\n",
    "    else:\n",
    "        print(f\"Creating new Chroma DB at {persist_dir}\")\n",
    "        vectorstore = Chroma(\n",
    "            collection_name=collection_name,\n",
    "            embedding_function=embeddings,\n",
    "            persist_directory=persist_dir,\n",
    "        )\n",
    "        texts = [doc[\"page_content\"] for doc in documents]\n",
    "        metadatas = [doc[\"metadata\"] for doc in documents]\n",
    "        ids = [f\"{m['title']}_{m['chunk']}\" for m in metadatas]\n",
    "        vectorstore.add_texts(texts=texts, metadatas=metadatas, ids=ids)\n",
    "        print(f\"Stored {len(documents)} chunks in Chroma at {persist_dir}.\")\n",
    "        return vectorstore\n",
    "\n",
    "vectorstore = get_or_create_vectorstore(documents, embeddings, PERSIST_DIR, COLLECTION_NAME)"
   ]
  },
  {
   "cell_type": "code",
   "execution_count": 16,
   "id": "5354272b",
   "metadata": {},
   "outputs": [],
   "source": [
    "retriever = vectorstore.as_retriever(search_kwargs={\"k\": TOP_K})\n",
    "\n",
    "def search(query: str):\n",
    "    results = retriever.get_relevant_documents(query)\n",
    "    for i, doc in enumerate(results, start=1):\n",
    "        print(f\"[{i}] {doc.metadata['title']} (chunk {doc.metadata['chunk']})\")\n",
    "        print(\"    \" + doc.page_content[:200] + \"...\\n\")"
   ]
  },
  {
   "cell_type": "code",
   "execution_count": 17,
   "id": "0ac7e2c2",
   "metadata": {},
   "outputs": [
    {
     "name": "stdout",
     "output_type": "stream",
     "text": [
      "\n",
      "================================================================================\n",
      "Query: friendship and adventure\n"
     ]
    },
    {
     "name": "stderr",
     "output_type": "stream",
     "text": [
      "C:\\Users\\ioamuresan\\AppData\\Local\\Temp\\ipykernel_30552\\539123782.py:4: LangChainDeprecationWarning: The method `BaseRetriever.get_relevant_documents` was deprecated in langchain-core 0.1.46 and will be removed in 1.0. Use :meth:`~invoke` instead.\n",
      "  results = retriever.get_relevant_documents(query)\n"
     ]
    },
    {
     "name": "stdout",
     "output_type": "stream",
     "text": [
      "[1] The Hobbit (chunk 0)\n",
      "    The Hobbit — Bilbo Baggins, a simple hobbit, is thrust into an adventure with Gandalf and thirteen dwarves to reclaim their homeland from the dragon Smaug. Along the journey, he discovers courage, cun...\n",
      "\n",
      "[2] The Alchemist (chunk 0)\n",
      "    The Alchemist — Santiago, a shepherd, follows his dream of finding treasure in Egypt, learning lessons of destiny, faith, and self-discovery along the way. Themes: dreams, personal legend, and transfo...\n",
      "\n",
      "[3] Harry Potter and the Philosopher’s Stone (chunk 0)\n",
      "    Harry Potter and the Philosopher’s Stone — Harry discovers he is a wizard and begins his studies at Hogwarts. Alongside friends Ron and Hermione, he faces challenges and uncovers a dark secret. Themes...\n",
      "\n",
      "[4] The Shadow of the Wind (chunk 0)\n",
      "    The Shadow of the Wind — In post–Civil War Barcelona, a boy discovers a mysterious book that leads him into a dark labyrinth of secrets, betrayal, and hidden histories. Themes: memory, literature, and...\n",
      "\n",
      "[5] Life of Pi (chunk 0)\n",
      "    Life of Pi — After a shipwreck, Pi Patel survives on a lifeboat with a Bengal tiger named Richard Parker. Their struggle for survival becomes a spiritual journey. Themes: faith, resilience, and the me...\n",
      "\n"
     ]
    }
   ],
   "source": [
    "example_queries = [\n",
    "    \"friendship and adventure\",\n",
    "]\n",
    "\n",
    "for q in example_queries:\n",
    "    print(\"\\n\" + \"=\"*80)\n",
    "    print(f\"Query: {q}\")\n",
    "    search(q)"
   ]
  },
  {
   "cell_type": "code",
   "execution_count": null,
   "id": "e60b5f29",
   "metadata": {},
   "outputs": [
    {
     "name": "stderr",
     "output_type": "stream",
     "text": [
      "C:\\Users\\ioamuresan\\AppData\\Roaming\\Python\\Python313\\site-packages\\gradio\\chat_interface.py:339: UserWarning: The 'tuples' format for chatbot messages is deprecated and will be removed in a future version of Gradio. Please set type='messages' instead, which uses openai-style 'role' and 'content' keys.\n",
      "  self.chatbot = Chatbot(\n"
     ]
    },
    {
     "name": "stdout",
     "output_type": "stream",
     "text": [
      "* Running on local URL:  http://127.0.0.1:7862\n",
      "* To create a public link, set `share=True` in `launch()`.\n",
      "* To create a public link, set `share=True` in `launch()`.\n"
     ]
    },
    {
     "data": {
      "text/html": [
       "<div><iframe src=\"http://127.0.0.1:7862/\" width=\"100%\" height=\"500\" allow=\"autoplay; camera; microphone; clipboard-read; clipboard-write;\" frameborder=\"0\" allowfullscreen></iframe></div>"
      ],
      "text/plain": [
       "<IPython.core.display.HTML object>"
      ]
     },
     "metadata": {},
     "output_type": "display_data"
    },
    {
     "data": {
      "text/plain": []
     },
     "execution_count": 21,
     "metadata": {},
     "output_type": "execute_result"
    }
   ],
   "source": [
    "llm_client = OpenAI(api_key=openai_api_key)\n",
    "\n",
    "def chatbot_response(user_message, history=None):\n",
    "    results = retriever.get_relevant_documents(user_message)\n",
    "    if not results:\n",
    "        return \"Sorry, I couldn't find a matching book recommendation.\"\n",
    "    doc = results[0]\n",
    "    title = doc.metadata.get('title', 'Unknown Title')\n",
    "    summary = doc.page_content[:700].replace('\\n', ' ')\n",
    "    # Compose a prompt for the LLM\n",
    "    prompt = (\n",
    "        f\"You are a helpful book recommendation assistant. \"\n",
    "        f\"A user asked: \\\"{user_message}\\\". \"\n",
    "        f\"Here is a relevant book summary:\\n\\n\"\n",
    "        f\"Title: {title}\\nSummary: {summary}\\n\\n\"\n",
    "        f\"Based on this, reply conversationally with a recommendation. \"\n",
    "        f\"Only recommend the book with the exact title provided above.\"\n",
    "    )\n",
    "    try:\n",
    "        response = llm_client.chat.completions.create(\n",
    "            model=\"gpt-3.5-turbo\",\n",
    "            messages=[\n",
    "                {\"role\": \"system\", \"content\": \"You are a helpful book recommendation assistant.\"},\n",
    "                {\"role\": \"user\", \"content\": prompt}\n",
    "            ],\n",
    "            max_tokens=256,\n",
    "            temperature=0.7,\n",
    "        )\n",
    "        llm_reply = response.choices[0].message.content.strip()\n",
    "    except Exception as e:\n",
    "        return f\"LLM error: {e}\"\n",
    "    # After LLM reply, append the full summary using the tool\n",
    "    full_summary = get_summary_by_title(title)\n",
    "    return f\"{llm_reply}\\n\\n**Full summary for '{title}':**\\n{full_summary}\"\n",
    "\n",
    "chatbot = gr.ChatInterface(\n",
    "    fn=chatbot_response,\n",
    "    title=\"Book Recommendation Chatbot\",\n",
    "    description=\"Ask for a book by theme, genre, or keywords. The bot will recommend a matching book from the database.\",\n",
    "    examples=[\n",
    "        [\"I want a story about friendship and adventure\"],\n",
    "        [\"Suggest a mystery novel\"],\n",
    "        [\"Looking for a book about overcoming adversity\"],\n",
    "    ]\n",
    ")\n",
    "\n",
    "chatbot.launch()"
   ]
  }
 ],
 "metadata": {
  "kernelspec": {
   "display_name": "Python 3",
   "language": "python",
   "name": "python3"
  },
  "language_info": {
   "codemirror_mode": {
    "name": "ipython",
    "version": 3
   },
   "file_extension": ".py",
   "mimetype": "text/x-python",
   "name": "python",
   "nbconvert_exporter": "python",
   "pygments_lexer": "ipython3",
   "version": "3.13.7"
  }
 },
 "nbformat": 4,
 "nbformat_minor": 5
}
